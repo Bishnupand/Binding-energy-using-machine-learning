{
 "cells": [
  {
   "cell_type": "code",
   "execution_count": 1,
   "id": "6f9fa46f-193f-44a0-a70f-ed2e0bf5cf31",
   "metadata": {},
   "outputs": [],
   "source": [
    "import pandas as pd\n",
    "import numpy as np\n",
    "import matplotlib.pyplot as plt\n",
    "import seaborn as sns\n",
    "%matplotlib inline"
   ]
  },
  {
   "cell_type": "code",
   "execution_count": 2,
   "id": "727bd665-58d5-43da-bdac-030ea37dd8ec",
   "metadata": {},
   "outputs": [],
   "source": [
    "from sklearn.svm import SVR\n",
    "from sklearn.tree import DecisionTreeRegressor\n",
    "from sklearn.neighbors import KNeighborsRegressor\n",
    "from sklearn.neural_network import MLPRegressor\n",
    "from sklearn.ensemble import RandomForestRegressor\n",
    "from xgboost import XGBRegressor\n",
    "from sklearn.metrics import mean_absolute_error,mean_squared_log_error,mean_squared_error, r2_score\n"
   ]
  },
  {
   "cell_type": "code",
   "execution_count": 3,
   "id": "20d7f87a-e429-47b5-b41f-223332b2ec51",
   "metadata": {},
   "outputs": [
    {
     "data": {
      "text/html": [
       "<div>\n",
       "<style scoped>\n",
       "    .dataframe tbody tr th:only-of-type {\n",
       "        vertical-align: middle;\n",
       "    }\n",
       "\n",
       "    .dataframe tbody tr th {\n",
       "        vertical-align: top;\n",
       "    }\n",
       "\n",
       "    .dataframe thead th {\n",
       "        text-align: right;\n",
       "    }\n",
       "</style>\n",
       "<table border=\"1\" class=\"dataframe\">\n",
       "  <thead>\n",
       "    <tr style=\"text-align: right;\">\n",
       "      <th></th>\n",
       "      <th>N</th>\n",
       "      <th>Z</th>\n",
       "      <th>A</th>\n",
       "      <th>EL</th>\n",
       "      <th>m</th>\n",
       "    </tr>\n",
       "  </thead>\n",
       "  <tbody>\n",
       "    <tr>\n",
       "      <th>0</th>\n",
       "      <td>0</td>\n",
       "      <td>1</td>\n",
       "      <td>1</td>\n",
       "      <td>H</td>\n",
       "      <td>1.007825</td>\n",
       "    </tr>\n",
       "    <tr>\n",
       "      <th>1</th>\n",
       "      <td>1</td>\n",
       "      <td>1</td>\n",
       "      <td>2</td>\n",
       "      <td>H</td>\n",
       "      <td>2.014102</td>\n",
       "    </tr>\n",
       "    <tr>\n",
       "      <th>2</th>\n",
       "      <td>2</td>\n",
       "      <td>1</td>\n",
       "      <td>3</td>\n",
       "      <td>H</td>\n",
       "      <td>3.016049</td>\n",
       "    </tr>\n",
       "    <tr>\n",
       "      <th>3</th>\n",
       "      <td>1</td>\n",
       "      <td>2</td>\n",
       "      <td>3</td>\n",
       "      <td>He</td>\n",
       "      <td>3.016029</td>\n",
       "    </tr>\n",
       "    <tr>\n",
       "      <th>4</th>\n",
       "      <td>0</td>\n",
       "      <td>3</td>\n",
       "      <td>3</td>\n",
       "      <td>Li</td>\n",
       "      <td>3.030775</td>\n",
       "    </tr>\n",
       "  </tbody>\n",
       "</table>\n",
       "</div>"
      ],
      "text/plain": [
       "   N  Z  A  EL         m\n",
       "0  0  1  1   H  1.007825\n",
       "1  1  1  2   H  2.014102\n",
       "2  2  1  3   H  3.016049\n",
       "3  1  2  3  He  3.016029\n",
       "4  0  3  3  Li  3.030775"
      ]
     },
     "execution_count": 3,
     "metadata": {},
     "output_type": "execute_result"
    }
   ],
   "source": [
    "df = pd.read_csv(\"train-test.csv\")\n",
    "df.head()"
   ]
  },
  {
   "cell_type": "code",
   "execution_count": 4,
   "id": "5fc3d641-70ae-44eb-aade-03d1548a7c83",
   "metadata": {},
   "outputs": [
    {
     "data": {
      "text/html": [
       "<div>\n",
       "<style scoped>\n",
       "    .dataframe tbody tr th:only-of-type {\n",
       "        vertical-align: middle;\n",
       "    }\n",
       "\n",
       "    .dataframe tbody tr th {\n",
       "        vertical-align: top;\n",
       "    }\n",
       "\n",
       "    .dataframe thead th {\n",
       "        text-align: right;\n",
       "    }\n",
       "</style>\n",
       "<table border=\"1\" class=\"dataframe\">\n",
       "  <thead>\n",
       "    <tr style=\"text-align: right;\">\n",
       "      <th></th>\n",
       "      <th>N</th>\n",
       "      <th>Z</th>\n",
       "      <th>A</th>\n",
       "      <th>EL</th>\n",
       "      <th>m</th>\n",
       "      <th>be</th>\n",
       "    </tr>\n",
       "  </thead>\n",
       "  <tbody>\n",
       "    <tr>\n",
       "      <th>0</th>\n",
       "      <td>0</td>\n",
       "      <td>1</td>\n",
       "      <td>1</td>\n",
       "      <td>H</td>\n",
       "      <td>1.007825</td>\n",
       "      <td>0.047824</td>\n",
       "    </tr>\n",
       "    <tr>\n",
       "      <th>1</th>\n",
       "      <td>1</td>\n",
       "      <td>1</td>\n",
       "      <td>2</td>\n",
       "      <td>H</td>\n",
       "      <td>2.014102</td>\n",
       "      <td>2.271660</td>\n",
       "    </tr>\n",
       "    <tr>\n",
       "      <th>2</th>\n",
       "      <td>2</td>\n",
       "      <td>1</td>\n",
       "      <td>3</td>\n",
       "      <td>H</td>\n",
       "      <td>3.016049</td>\n",
       "      <td>8.526025</td>\n",
       "    </tr>\n",
       "    <tr>\n",
       "      <th>3</th>\n",
       "      <td>1</td>\n",
       "      <td>2</td>\n",
       "      <td>3</td>\n",
       "      <td>He</td>\n",
       "      <td>3.016029</td>\n",
       "      <td>7.810048</td>\n",
       "    </tr>\n",
       "    <tr>\n",
       "      <th>4</th>\n",
       "      <td>0</td>\n",
       "      <td>3</td>\n",
       "      <td>3</td>\n",
       "      <td>Li</td>\n",
       "      <td>3.030775</td>\n",
       "      <td>-6.652740</td>\n",
       "    </tr>\n",
       "  </tbody>\n",
       "</table>\n",
       "</div>"
      ],
      "text/plain": [
       "   N  Z  A  EL         m        be\n",
       "0  0  1  1   H  1.007825  0.047824\n",
       "1  1  1  2   H  2.014102  2.271660\n",
       "2  2  1  3   H  3.016049  8.526025\n",
       "3  1  2  3  He  3.016029  7.810048\n",
       "4  0  3  3  Li  3.030775 -6.652740"
      ]
     },
     "execution_count": 4,
     "metadata": {},
     "output_type": "execute_result"
    }
   ],
   "source": [
    "m_P= 1.0078764\n",
    "m_N= 1.0086654\n",
    "#calculating binding energy per nucleon using atomic mass evaluation\n",
    "df['be']= (df['Z']* m_P + df['N']* m_N - df['m'])*931\n",
    "df.head()"
   ]
  },
  {
   "cell_type": "code",
   "execution_count": 5,
   "id": "99125109-3ed5-4533-93a0-0d10213e35aa",
   "metadata": {},
   "outputs": [],
   "source": [
    "df.drop(\"EL\", axis = 1, inplace = True)"
   ]
  },
  {
   "cell_type": "code",
   "execution_count": 6,
   "id": "cdc95272-6553-49a1-8892-0f433ce13443",
   "metadata": {},
   "outputs": [
    {
     "data": {
      "text/html": [
       "<div>\n",
       "<style scoped>\n",
       "    .dataframe tbody tr th:only-of-type {\n",
       "        vertical-align: middle;\n",
       "    }\n",
       "\n",
       "    .dataframe tbody tr th {\n",
       "        vertical-align: top;\n",
       "    }\n",
       "\n",
       "    .dataframe thead th {\n",
       "        text-align: right;\n",
       "    }\n",
       "</style>\n",
       "<table border=\"1\" class=\"dataframe\">\n",
       "  <thead>\n",
       "    <tr style=\"text-align: right;\">\n",
       "      <th></th>\n",
       "      <th>N</th>\n",
       "      <th>Z</th>\n",
       "      <th>A</th>\n",
       "      <th>m</th>\n",
       "      <th>be</th>\n",
       "    </tr>\n",
       "  </thead>\n",
       "  <tbody>\n",
       "    <tr>\n",
       "      <th>N</th>\n",
       "      <td>1.000000</td>\n",
       "      <td>0.972859</td>\n",
       "      <td>0.995812</td>\n",
       "      <td>0.995827</td>\n",
       "      <td>0.990375</td>\n",
       "    </tr>\n",
       "    <tr>\n",
       "      <th>Z</th>\n",
       "      <td>0.972859</td>\n",
       "      <td>1.000000</td>\n",
       "      <td>0.989941</td>\n",
       "      <td>0.989916</td>\n",
       "      <td>0.988218</td>\n",
       "    </tr>\n",
       "    <tr>\n",
       "      <th>A</th>\n",
       "      <td>0.995812</td>\n",
       "      <td>0.989941</td>\n",
       "      <td>1.000000</td>\n",
       "      <td>1.000000</td>\n",
       "      <td>0.995995</td>\n",
       "    </tr>\n",
       "    <tr>\n",
       "      <th>m</th>\n",
       "      <td>0.995827</td>\n",
       "      <td>0.989916</td>\n",
       "      <td>1.000000</td>\n",
       "      <td>1.000000</td>\n",
       "      <td>0.995931</td>\n",
       "    </tr>\n",
       "    <tr>\n",
       "      <th>be</th>\n",
       "      <td>0.990375</td>\n",
       "      <td>0.988218</td>\n",
       "      <td>0.995995</td>\n",
       "      <td>0.995931</td>\n",
       "      <td>1.000000</td>\n",
       "    </tr>\n",
       "  </tbody>\n",
       "</table>\n",
       "</div>"
      ],
      "text/plain": [
       "           N         Z         A         m        be\n",
       "N   1.000000  0.972859  0.995812  0.995827  0.990375\n",
       "Z   0.972859  1.000000  0.989941  0.989916  0.988218\n",
       "A   0.995812  0.989941  1.000000  1.000000  0.995995\n",
       "m   0.995827  0.989916  1.000000  1.000000  0.995931\n",
       "be  0.990375  0.988218  0.995995  0.995931  1.000000"
      ]
     },
     "execution_count": 6,
     "metadata": {},
     "output_type": "execute_result"
    }
   ],
   "source": [
    "# Let's make it look a little prettier\n",
    "corr_matrix = df.corr()\n",
    "corr_matrix"
   ]
  },
  {
   "cell_type": "code",
   "execution_count": 7,
   "id": "c771a61b-a8da-4d14-80a9-7a32a3630aaa",
   "metadata": {},
   "outputs": [],
   "source": [
    "# Random seed for reproducibility\n",
    "np.random.seed(42)\n",
    "# Everything except target variable\n",
    "X = df.drop(\"be\", axis=1)\n",
    "\n",
    "# Target variable\n",
    "y = df.be\n",
    "# Split into train & test set"
   ]
  },
  {
   "cell_type": "code",
   "execution_count": 8,
   "id": "50affde7-7a04-4491-b321-69f2865e3be8",
   "metadata": {},
   "outputs": [],
   "source": [
    "from sklearn.model_selection import train_test_split\n",
    "# Split into train & test set\n",
    "X_train, X_test, y_train, y_test = train_test_split(X, # independent variables \n",
    "                                                    y,test_size = 0.2, random_state=42) \n",
    "df1 = pd.concat([X_train,y_train], axis = 1)\n",
    "df2 = pd.concat([X_test,y_test], axis = 1)"
   ]
  },
  {
   "cell_type": "code",
   "execution_count": 9,
   "id": "773be978-eef0-427a-aeea-5b75b99760e4",
   "metadata": {},
   "outputs": [
    {
     "name": "stdout",
     "output_type": "stream",
     "text": [
      "accuracy : 0.9999445628872428 mean_absolute_error : 2.535196723418478 root mean square error: 4.026917907395119\n"
     ]
    }
   ],
   "source": [
    "reg1 = RandomForestRegressor(n_estimators=1000,random_state=42)\n",
    "reg1.fit(X_train,y_train)\n",
    "\n",
    "y_pred = reg1.predict(X_test)\n",
    "y_pred= pd.DataFrame(y_pred)\n",
    "\n",
    "print(\"accuracy :\",reg1.score(X_test,y_test),\"mean_absolute_error :\", mean_absolute_error(y_test,y_pred), \n",
    "      \"root mean square error:\",np.sqrt(mean_squared_error(y_test,y_pred)))"
   ]
  },
  {
   "cell_type": "code",
   "execution_count": 10,
   "id": "3950699d-341c-4575-a33d-fdf6e0e062d5",
   "metadata": {},
   "outputs": [],
   "source": [
    "y_pred.to_csv(\"rfr.csv\")"
   ]
  },
  {
   "cell_type": "code",
   "execution_count": 11,
   "id": "904d84d0-4048-4490-8340-f12054a42d36",
   "metadata": {},
   "outputs": [
    {
     "name": "stdout",
     "output_type": "stream",
     "text": [
      "accuracy : 0.9999481406472522 mean_absolute_error : 3.089163969937577 root mean square error: 3.894807704741745\n"
     ]
    }
   ],
   "source": [
    "reg1 = MLPRegressor(hidden_layer_sizes=(64,32,16,8),\n",
    "                       max_iter = 1000,random_state=42)\n",
    "reg1.fit(X_train,y_train)\n",
    "\n",
    "y_pred = reg1.predict(X_test)\n",
    "y_pred= pd.DataFrame(y_pred)\n",
    "y_pred.to_csv(\"mlp.csv\")\n",
    "print(\"accuracy :\",reg1.score(X_test,y_test),\"mean_absolute_error :\", mean_absolute_error(y_test,y_pred), \n",
    "      \"root mean square error:\",np.sqrt(mean_squared_error(y_test,y_pred)))"
   ]
  },
  {
   "cell_type": "code",
   "execution_count": 12,
   "id": "461f232d-eaf0-4e5a-b61c-01164ba3cad2",
   "metadata": {},
   "outputs": [
    {
     "name": "stdout",
     "output_type": "stream",
     "text": [
      "accuracy : 0.9999378564354068 mean_absolute_error : 2.9579439859218377 root mean square error: 4.263542092081247\n"
     ]
    }
   ],
   "source": [
    "reg1 = XGBRegressor(n_estimators=1000,max_depth=100,gamma = 5,learning_rate = 0.01,random_state = 42)\n",
    "reg1.fit(X_train,y_train)\n",
    "\n",
    "y_pred = reg1.predict(X_test)\n",
    "y_pred= pd.DataFrame(y_pred)\n",
    "y_pred.to_csv(\"xgb.csv\")\n",
    "print(\"accuracy :\",reg1.score(X_test,y_test),\"mean_absolute_error :\", mean_absolute_error(y_test,y_pred), \n",
    "      \"root mean square error:\",np.sqrt(mean_squared_error(y_test,y_pred)))"
   ]
  },
  {
   "cell_type": "code",
   "execution_count": 13,
   "id": "83ec46b9-169d-43f5-89b0-e5ab3bd5f9e0",
   "metadata": {},
   "outputs": [],
   "source": [
    "df2 = pd.concat([X_test,y_test], axis = 1)\n",
    "# defining constants df2 from rholf\n",
    "a_V= 15.75\n",
    "a_S= 17.8\n",
    "a_C= 0.711\n",
    "a_A= 23.7\n",
    "a_P= 11.18\n",
    "#providing condition for last constant which is positive for even-even Z,N(even A) ,\n",
    "#negative for odd-odd Z,N(even A) and zero for odd A\n",
    "sgn = np.zeros(df2['Z'].shape) \n",
    "sgn[(df2['Z']%2) & (df2['N']%2)] = -1 \n",
    "sgn[~(df2['Z']%2) & ~(df2['N']%2)] = +1\n",
    "#calculating binding energy using semi-empirical mass formula\n",
    "df2['BE_SEMF']= (a_V* df2['A'] - a_S* df2['A']**(2/3) - a_C * df2['Z']* (df2['Z']- 1) / df2['A']**(1/3) - \n",
    "             a_A * (df2['A']-2*df2['Z'])**2/df2['A'] + sgn * a_P/df2['A']**(1/2))\n",
    "df2[\"be_a_semf\"] = df2['BE_SEMF']/df2[\"A\"]"
   ]
  },
  {
   "cell_type": "code",
   "execution_count": 14,
   "id": "355d963e-8fdd-42d4-be22-435ae02c13c1",
   "metadata": {},
   "outputs": [
    {
     "name": "stdout",
     "output_type": "stream",
     "text": [
      "MAE_SEMF = 5.19406675070005 ,RMSE_SEMF = 6.702310913828531 0.9998464307751658\n"
     ]
    }
   ],
   "source": [
    "rmse_semf = np.sqrt(mean_squared_error(df2.be,df2.BE_SEMF))\n",
    "mae_semf = mean_absolute_error(df2.be,df2.BE_SEMF)\n",
    "\n",
    "R2_semf = r2_score(df2.be,df2.BE_SEMF)\n",
    "print(\"MAE_SEMF =\",mae_semf,\",RMSE_SEMF =\",rmse_semf,R2_semf)"
   ]
  },
  {
   "cell_type": "code",
   "execution_count": 15,
   "id": "ab88e907-ab35-448c-a2af-06d61e19a17e",
   "metadata": {},
   "outputs": [
    {
     "data": {
      "text/html": [
       "<div>\n",
       "<style scoped>\n",
       "    .dataframe tbody tr th:only-of-type {\n",
       "        vertical-align: middle;\n",
       "    }\n",
       "\n",
       "    .dataframe tbody tr th {\n",
       "        vertical-align: top;\n",
       "    }\n",
       "\n",
       "    .dataframe thead th {\n",
       "        text-align: right;\n",
       "    }\n",
       "</style>\n",
       "<table border=\"1\" class=\"dataframe\">\n",
       "  <thead>\n",
       "    <tr style=\"text-align: right;\">\n",
       "      <th></th>\n",
       "      <th>N</th>\n",
       "      <th>Z</th>\n",
       "      <th>A</th>\n",
       "      <th>m</th>\n",
       "      <th>be</th>\n",
       "      <th>be_RFR</th>\n",
       "      <th>be_XGB</th>\n",
       "      <th>be_MLP</th>\n",
       "      <th>BE_SEMF</th>\n",
       "      <th>be_a_semf</th>\n",
       "      <th>be_a_RFR</th>\n",
       "      <th>be_a_XGB</th>\n",
       "      <th>be_a_MLP</th>\n",
       "      <th>be_a</th>\n",
       "    </tr>\n",
       "  </thead>\n",
       "  <tbody>\n",
       "    <tr>\n",
       "      <th>0</th>\n",
       "      <td>0</td>\n",
       "      <td>1</td>\n",
       "      <td>1</td>\n",
       "      <td>1.007825</td>\n",
       "      <td>0.047824</td>\n",
       "      <td>-1.839576</td>\n",
       "      <td>-2.028259</td>\n",
       "      <td>0.648924</td>\n",
       "      <td>-25.750000</td>\n",
       "      <td>-25.750000</td>\n",
       "      <td>-1.839576</td>\n",
       "      <td>-2.028259</td>\n",
       "      <td>0.648924</td>\n",
       "      <td>0.047824</td>\n",
       "    </tr>\n",
       "    <tr>\n",
       "      <th>1</th>\n",
       "      <td>3</td>\n",
       "      <td>3</td>\n",
       "      <td>6</td>\n",
       "      <td>6.015123</td>\n",
       "      <td>32.121926</td>\n",
       "      <td>28.064957</td>\n",
       "      <td>30.711208</td>\n",
       "      <td>33.937543</td>\n",
       "      <td>33.378025</td>\n",
       "      <td>5.563004</td>\n",
       "      <td>4.677493</td>\n",
       "      <td>5.118535</td>\n",
       "      <td>5.656257</td>\n",
       "      <td>5.353654</td>\n",
       "    </tr>\n",
       "    <tr>\n",
       "      <th>2</th>\n",
       "      <td>6</td>\n",
       "      <td>1</td>\n",
       "      <td>7</td>\n",
       "      <td>7.052749</td>\n",
       "      <td>6.628534</td>\n",
       "      <td>22.036381</td>\n",
       "      <td>17.659521</td>\n",
       "      <td>9.205379</td>\n",
       "      <td>-39.528499</td>\n",
       "      <td>-5.646928</td>\n",
       "      <td>3.148054</td>\n",
       "      <td>2.522789</td>\n",
       "      <td>1.315054</td>\n",
       "      <td>0.946933</td>\n",
       "    </tr>\n",
       "    <tr>\n",
       "      <th>3</th>\n",
       "      <td>3</td>\n",
       "      <td>5</td>\n",
       "      <td>8</td>\n",
       "      <td>8.024607</td>\n",
       "      <td>37.957770</td>\n",
       "      <td>39.437965</td>\n",
       "      <td>46.731680</td>\n",
       "      <td>41.712099</td>\n",
       "      <td>35.840000</td>\n",
       "      <td>4.480000</td>\n",
       "      <td>4.929746</td>\n",
       "      <td>5.841460</td>\n",
       "      <td>5.214012</td>\n",
       "      <td>4.744721</td>\n",
       "    </tr>\n",
       "    <tr>\n",
       "      <th>4</th>\n",
       "      <td>6</td>\n",
       "      <td>2</td>\n",
       "      <td>8</td>\n",
       "      <td>8.033922</td>\n",
       "      <td>31.489495</td>\n",
       "      <td>34.351936</td>\n",
       "      <td>40.641950</td>\n",
       "      <td>26.633133</td>\n",
       "      <td>6.689000</td>\n",
       "      <td>0.836125</td>\n",
       "      <td>4.293992</td>\n",
       "      <td>5.080244</td>\n",
       "      <td>3.329142</td>\n",
       "      <td>3.936187</td>\n",
       "    </tr>\n",
       "  </tbody>\n",
       "</table>\n",
       "</div>"
      ],
      "text/plain": [
       "   N  Z  A         m         be     be_RFR     be_XGB     be_MLP    BE_SEMF  \\\n",
       "0  0  1  1  1.007825   0.047824  -1.839576  -2.028259   0.648924 -25.750000   \n",
       "1  3  3  6  6.015123  32.121926  28.064957  30.711208  33.937543  33.378025   \n",
       "2  6  1  7  7.052749   6.628534  22.036381  17.659521   9.205379 -39.528499   \n",
       "3  3  5  8  8.024607  37.957770  39.437965  46.731680  41.712099  35.840000   \n",
       "4  6  2  8  8.033922  31.489495  34.351936  40.641950  26.633133   6.689000   \n",
       "\n",
       "   be_a_semf  be_a_RFR  be_a_XGB  be_a_MLP      be_a  \n",
       "0 -25.750000 -1.839576 -2.028259  0.648924  0.047824  \n",
       "1   5.563004  4.677493  5.118535  5.656257  5.353654  \n",
       "2  -5.646928  3.148054  2.522789  1.315054  0.946933  \n",
       "3   4.480000  4.929746  5.841460  5.214012  4.744721  \n",
       "4   0.836125  4.293992  5.080244  3.329142  3.936187  "
      ]
     },
     "execution_count": 15,
     "metadata": {},
     "output_type": "execute_result"
    }
   ],
   "source": [
    "dfx = pd.read_csv(\"predict.csv\")\n",
    "dfx.head()"
   ]
  },
  {
   "cell_type": "code",
   "execution_count": 16,
   "id": "ffd9165d-4a30-482a-9e69-4689d01219c9",
   "metadata": {},
   "outputs": [],
   "source": [
    "dfx[\"be_a_RFR\"]= dfx[\"be_RFR\"]/ dfx[\"A\"]\n",
    "dfx[\"be_a_XGB\"]= dfx[\"be_XGB\"]/ dfx[\"A\"]\n",
    "dfx[\"be_a_MLP\"]= dfx[\"be_MLP\"]/ dfx[\"A\"]\n",
    "dfx.to_csv(\"predict.csv\")"
   ]
  },
  {
   "cell_type": "code",
   "execution_count": 17,
   "id": "ed0f5282-fff0-4735-94e8-3bff8d4c57c1",
   "metadata": {},
   "outputs": [
    {
     "data": {
      "image/png": "[encoded data removed]",
      "text/plain": [
       "<Figure size 800x600 with 1 Axes>"
      ]
     },
     "metadata": {},
     "output_type": "display_data"
    }
   ],
   "source": [
    "fig, ax = plt.subplots(figsize=(8,6)) \n",
    "\n",
    "ax.scatter(df1[\"N\"],df1[\"Z\"],  label =\"train set\",color =\"lime\")\n",
    "ax.scatter(df2[\"N\"], df2[\"Z\"],  label =\"test set\", color= \"red\")\n",
    "ax.set_xlabel(r'Nuetron Number',fontsize=14,fontweight=\"bold\") \n",
    "ax.set_ylabel(r'Proton Number',fontsize=14,fontweight=\"bold\")\n",
    "plt.xticks(color = 'k', fontsize=12,fontweight=\"bold\")\n",
    "plt.yticks(color = 'k', fontsize=12,fontweight=\"bold\")\n",
    "plt.tick_params(direction='in')\n",
    "plt.tick_params(axis='x',length=8,width=2)\n",
    "plt.tick_params(axis='y',length=8,width=2)\n",
    "ax.legend(prop=dict(weight='bold'));\n",
    "ax.set_ylim(0,120)\n",
    "ax.set_xlim(0,180)\n",
    "plt.savefig('train_test.png', dpi =600,bbox_inches='tight')\n",
    "plt.show()"
   ]
  },
  {
   "cell_type": "code",
   "execution_count": 18,
   "id": "79b3248e-2d1b-4fbf-a7c2-971b47468281",
   "metadata": {},
   "outputs": [
    {
     "data": {
      "image/png": "[encoded data removed]",
      "text/plain": [
       "<Figure size 800x600 with 1 Axes>"
      ]
     },
     "metadata": {},
     "output_type": "display_data"
    }
   ],
   "source": [
    "# Data\n",
    "models = [\"RandomForest\",\"MLPRegressor\",\"XGBoost\"]\n",
    "mae_values = [2.535,3.089,2.958]\n",
    "rmse_values = [4.027,3.895,4.263]\n",
    "r2_values = [0.946,0.950,0.932]\n",
    "\n",
    "# Bar width\n",
    "bar_width = 0.15\n",
    "\n",
    "# Set up the bar positions\n",
    "bar_positions_mae = np.arange(len(models))\n",
    "bar_positions_rmse = bar_positions_mae + bar_width\n",
    "bar_positions_r2 = bar_positions_rmse + bar_width\n",
    "\n",
    "# Create the bar plot\n",
    "plt.figure(figsize =(8,6))\n",
    "plt.bar(bar_positions_mae, mae_values, width=bar_width, label='MAE')\n",
    "plt.bar(bar_positions_rmse, rmse_values, width=bar_width, label='RMSE')\n",
    "plt.bar(bar_positions_r2, r2_values, width=bar_width, label='R2')\n",
    "# Add values on top of the bars with formatting to two decimal places\n",
    "for i, value in enumerate(mae_values):\n",
    "    plt.text(bar_positions_mae[i], value + 0.005, f'{value:.3f}', ha='center', va='bottom',fontsize=8,fontweight = \"bold\")\n",
    "\n",
    "for i, value in enumerate(rmse_values):\n",
    "    plt.text(bar_positions_rmse[i], value + 0.005, f'{value:.3f}', ha='center', va='bottom',fontsize=8,fontweight = \"bold\")\n",
    "\n",
    "for i, value in enumerate(r2_values):\n",
    "    plt.text(bar_positions_r2[i], value + 0.005, f'{value:.3f}', ha='center', va='bottom',fontsize=8,fontweight = \"bold\")\n",
    "# Set labels and title\n",
    "plt.ylabel('Metric Values',fontsize=14,fontweight = \"bold\")\n",
    "plt.xticks(bar_positions_rmse, models)\n",
    "plt.xticks(color = 'k', fontsize=10,fontweight = \"bold\")\n",
    "plt.yticks(color = 'k', fontsize=10,fontweight = \"bold\")\n",
    "plt.tick_params(axis='y',length=8,width=2)\n",
    "plt.tick_params(direction='in')\n",
    "plt.legend(prop=dict(weight='bold'),loc = (0.6,0.8))\n",
    "plt.savefig('compare.png', dpi =600, bbox_inches='tight')\n",
    "# Show the plot\n",
    "plt.show()"
   ]
  },
  {
   "cell_type": "code",
   "execution_count": null,
   "id": "249012cb-6bb6-4f7f-9e50-329247b2e7d6",
   "metadata": {},
   "outputs": [],
   "source": []
  }
 ],
 "metadata": {
  "kernelspec": {
   "display_name": "Python 3 (ipykernel)",
   "language": "python",
   "name": "python3"
  },
  "language_info": {
   "codemirror_mode": {
    "name": "ipython",
    "version": 3
   },
   "file_extension": ".py",
   "mimetype": "text/x-python",
   "name": "python",
   "nbconvert_exporter": "python",
   "pygments_lexer": "ipython3",
   "version": "3.12.4"
  }
 },
 "nbformat": 4,
 "nbformat_minor": 5
}
